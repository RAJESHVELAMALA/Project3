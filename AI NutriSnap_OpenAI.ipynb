{
  "cells": [
    {
      "cell_type": "code",
      "source": [
        "#!pip install gradio\n",
        "import gradio as gr\n",
        "import openai\n",
        "\n",
        "# Set up your OpenAI API key\n",
        "openai.api_key = \"API_KEY\"\n",
        "\n",
        "def chatgpt( uploaded_image,input_text):\n",
        "\n",
        "    # Call the OpenAI API\n",
        "    #input_text='vanilla cake nutrition facts'\n",
        "    llm = ChatOpenAI(openai_api_key='API_KEY', model_name=OPENAI_MODEL, temperature=0.3)\n",
        "    # Pass the query to the invoke method which will make a prediction based on the query, and print the result.\n",
        "    result = llm.invoke(input_text+\" Nutritional Facts\")\n",
        "\n",
        "    # Return the generated text\n",
        "    return result.content\n",
        "\n",
        "#chatgpt(input_text)\n",
        "\n",
        "#Create the Gradio app\n",
        "demo = gr.Interface(\n",
        "    fn=chatgpt,\n",
        "    inputs=[\n",
        "        gr.File(label=\"Upload the picture of food you want to know about:\"),\n",
        "        gr.Textbox(label=\"Enter your message\")\n",
        "    ],\n",
        "    outputs=gr.Textbox(label=\"Here are some details about it\"),\n",
        "    title=\"AI NutriSnap \",\n",
        "    description=\"Snap a photo, get the nutrition facts.\",\n",
        ")\n",
        "\n",
        "# Launch the app\n",
        "demo.launch()"
      ],
      "metadata": {
        "colab": {
          "base_uri": "https://localhost:8080/",
          "height": 643
        },
        "id": "_ImfZ-IfEF4z",
        "outputId": "03f9fbaf-209f-4dda-d867-3614bc8df6c8"
      },
      "execution_count": null,
      "outputs": [
        {
          "output_type": "stream",
          "name": "stdout",
          "text": [
            "Setting queue=True in a Colab notebook requires sharing enabled. Setting `share=True` (you can turn this off by setting `share=False` in `launch()` explicitly).\n",
            "\n",
            "Colab notebook detected. To show errors in colab notebook, set debug=True in launch()\n",
            "Running on public URL: https://282f4fb880129a86be.gradio.live\n",
            "\n",
            "This share link expires in 72 hours. For free permanent hosting and GPU upgrades, run `gradio deploy` from Terminal to deploy to Spaces (https://huggingface.co/spaces)\n"
          ]
        },
        {
          "output_type": "display_data",
          "data": {
            "text/plain": [
              "<IPython.core.display.HTML object>"
            ],
            "text/html": [
              "<div><iframe src=\"https://282f4fb880129a86be.gradio.live\" width=\"100%\" height=\"500\" allow=\"autoplay; camera; microphone; clipboard-read; clipboard-write;\" frameborder=\"0\" allowfullscreen></iframe></div>"
            ]
          },
          "metadata": {}
        },
        {
          "output_type": "execute_result",
          "data": {
            "text/plain": []
          },
          "metadata": {},
          "execution_count": 46
        }
      ]
    }
  ],
  "metadata": {
    "kernelspec": {
      "display_name": "Python 3",
      "language": "python",
      "name": "python3"
    },
    "language_info": {
      "codemirror_mode": {
        "name": "ipython",
        "version": 3
      },
      "file_extension": ".py",
      "mimetype": "text/x-python",
      "name": "python",
      "nbconvert_exporter": "python",
      "pygments_lexer": "ipython3",
      "version": "3.10.12"
    },
    "colab": {
      "provenance": []
    }
  },
  "nbformat": 4,
  "nbformat_minor": 0
}